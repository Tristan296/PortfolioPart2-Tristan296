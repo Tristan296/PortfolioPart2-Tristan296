{
 "cells": [
  {
   "cell_type": "markdown",
   "id": "1dbf38f1",
   "metadata": {},
   "source": [
    "## Analysis of dataEpinions Dataset Part 2"
   ]
  },
  {
   "cell_type": "markdown",
   "id": "d66e2e86",
   "metadata": {},
   "source": [
    "The goal of the second analysis task is to train linear regression models to predict users' ratings towards items. This involves a standard Data Science workflow: exploring data, building models, making predictions, and evaluating results. In this task, we will explore the impacts of feature selections and different sizes of training/testing data on the model performance. We will use another cleaned dataEpinions sub-dataset that is different from the one in Portfolio 1. "
   ]
  },
  {
   "cell_type": "code",
   "execution_count": 276,
   "id": "53f76045",
   "metadata": {
    "scrolled": true
   },
   "outputs": [
    {
     "name": "stdout",
     "output_type": "stream",
     "text": [
      "      userId  timestamp                                             review  \\\n",
      "0       4259      11900        Finally, Something for (Relatively) Nothing   \n",
      "1       4259      12000                                          Shocking!   \n",
      "2       4259      12000                                Simply Shaggadelic!   \n",
      "3       4259      12000                             Better Than The First!   \n",
      "4       4259      12000                Blair Witch made me appreciate this   \n",
      "...      ...        ...                                                ...   \n",
      "2894   10815     112799  I dare you to sleep through this soon to be cl...   \n",
      "2895   10815     121299      Another movie to keep us out of the water!!!!   \n",
      "2896   10815     121399                           Miles above other films.   \n",
      "2897   10815     121499       This could be the beginning of a comedy era.   \n",
      "2898   10815     121499                     Maybe it should have been cut?   \n",
      "\n",
      "                                         item  rating  helpfulness gender  \\\n",
      "0                                MyPoints.com     4.0          4.0      F   \n",
      "1                                 Sixth Sense     5.0          4.0      F   \n",
      "2       Austin Powers: The Spy Who Shagged Me     5.0          4.0      F   \n",
      "3                                 Toy Story 2     5.0          3.0      F   \n",
      "4     Star Wars Episode I: The Phantom Menace     2.0          4.0      F   \n",
      "...                                       ...     ...          ...    ...   \n",
      "2894                            Sleepy Hollow     5.0          4.0      F   \n",
      "2895                            Deep Blue Sea     5.0          3.0      F   \n",
      "2896                               Green Mile     5.0          4.0      F   \n",
      "2897    Austin Powers: The Spy Who Shagged Me     3.0          4.0      F   \n",
      "2898       South Park: Bigger, Longer & Uncut     3.0          4.0      F   \n",
      "\n",
      "                      category  \n",
      "0     Online Stores & Services  \n",
      "1                       Movies  \n",
      "2                       Movies  \n",
      "3                       Movies  \n",
      "4                       Movies  \n",
      "...                        ...  \n",
      "2894                    Movies  \n",
      "2895                    Movies  \n",
      "2896                    Movies  \n",
      "2897                    Movies  \n",
      "2898                    Movies  \n",
      "\n",
      "[2899 rows x 8 columns]\n",
      "length :  2899\n"
     ]
    }
   ],
   "source": [
    "import pandas as pd\n",
    "import numpy as np\n",
    "from sklearn.model_selection import train_test_split\n",
    "from sklearn import linear_model\n",
    "from sklearn.metrics import r2_score\n",
    "from sklearn.preprocessing import OrdinalEncoder\n",
    "\n",
    "import seaborn as sns\n",
    "import matplotlib.pylab as plt\n",
    "%matplotlib inline\n",
    "from sklearn.linear_model import LinearRegression\n",
    "import warnings; warnings.simplefilter('ignore')\n",
    "\n",
    "dataEpinions = pd.read_csv(\"epinions_cleaned_data_portfolio_2.csv\")\n",
    "print(dataEpinions)\n",
    "print(\"length : \", len(dataEpinions))"
   ]
  },
  {
   "cell_type": "markdown",
   "id": "6101d009",
   "metadata": {},
   "source": [
    "### Import Cleaned dataEpinions Dataset\n",
    "The csv file named 'dataEpinions_cleaned_data_portfolio_2.csv'is provided. Please import the csv file (i.e., 'dataEpinions_cleaned_data_portfolio_2') and print out its total length."
   ]
  },
  {
   "cell_type": "markdown",
   "id": "998197d2",
   "metadata": {},
   "source": [
    "### Explore the Dataset\n",
    "\n",
    "* Use the methods, i.e., `head()` and `info()`, to have a rough picture about the data, e.g., how many columns, and the data types of each column. \n",
    "* As our goal is to predict ratings given other columns, please get the correlations between helpfulness/gender/category/review and rating by using the `corr()` method.\n",
    "* To get the correlations between different features, you may need to first convert the categorical features (i.e., gender, category and review) into numerial values. For doing this, you may need to import `OrdinalEncoder` from `sklearn.preprocessing` (refer to the useful exmaples [here](https://pbpython.com/categorical-encoding.html))\n",
    "* Please provide ___necessary explanations/analysis___ on the correlations, and figure out which are the ___most___ and ___least___ corrleated features regarding rating (positive or negative). Try to ___discuss___ how the correlation will affect the final prediction results, if we use these features to train a regression model for rating prediction. In what follows, we will conduct experiments to verify your hypothesis."
   ]
  },
  {
   "cell_type": "code",
   "execution_count": 277,
   "id": "9377f966",
   "metadata": {
    "scrolled": true
   },
   "outputs": [
    {
     "data": {
      "text/html": [
       "<div>\n",
       "<style scoped>\n",
       "    .dataframe tbody tr th:only-of-type {\n",
       "        vertical-align: middle;\n",
       "    }\n",
       "\n",
       "    .dataframe tbody tr th {\n",
       "        vertical-align: top;\n",
       "    }\n",
       "\n",
       "    .dataframe thead th {\n",
       "        text-align: right;\n",
       "    }\n",
       "</style>\n",
       "<table border=\"1\" class=\"dataframe\">\n",
       "  <thead>\n",
       "    <tr style=\"text-align: right;\">\n",
       "      <th></th>\n",
       "      <th>userId</th>\n",
       "      <th>timestamp</th>\n",
       "      <th>review</th>\n",
       "      <th>item</th>\n",
       "      <th>rating</th>\n",
       "      <th>helpfulness</th>\n",
       "      <th>gender</th>\n",
       "      <th>category</th>\n",
       "    </tr>\n",
       "  </thead>\n",
       "  <tbody>\n",
       "    <tr>\n",
       "      <th>0</th>\n",
       "      <td>4259</td>\n",
       "      <td>11900</td>\n",
       "      <td>Finally, Something for (Relatively) Nothing</td>\n",
       "      <td>MyPoints.com</td>\n",
       "      <td>4.0</td>\n",
       "      <td>4.0</td>\n",
       "      <td>F</td>\n",
       "      <td>Online Stores &amp; Services</td>\n",
       "    </tr>\n",
       "    <tr>\n",
       "      <th>1</th>\n",
       "      <td>4259</td>\n",
       "      <td>12000</td>\n",
       "      <td>Shocking!</td>\n",
       "      <td>Sixth Sense</td>\n",
       "      <td>5.0</td>\n",
       "      <td>4.0</td>\n",
       "      <td>F</td>\n",
       "      <td>Movies</td>\n",
       "    </tr>\n",
       "    <tr>\n",
       "      <th>2</th>\n",
       "      <td>4259</td>\n",
       "      <td>12000</td>\n",
       "      <td>Simply Shaggadelic!</td>\n",
       "      <td>Austin Powers: The Spy Who Shagged Me</td>\n",
       "      <td>5.0</td>\n",
       "      <td>4.0</td>\n",
       "      <td>F</td>\n",
       "      <td>Movies</td>\n",
       "    </tr>\n",
       "    <tr>\n",
       "      <th>3</th>\n",
       "      <td>4259</td>\n",
       "      <td>12000</td>\n",
       "      <td>Better Than The First!</td>\n",
       "      <td>Toy Story 2</td>\n",
       "      <td>5.0</td>\n",
       "      <td>3.0</td>\n",
       "      <td>F</td>\n",
       "      <td>Movies</td>\n",
       "    </tr>\n",
       "    <tr>\n",
       "      <th>4</th>\n",
       "      <td>4259</td>\n",
       "      <td>12000</td>\n",
       "      <td>Blair Witch made me appreciate this</td>\n",
       "      <td>Star Wars Episode I: The Phantom Menace</td>\n",
       "      <td>2.0</td>\n",
       "      <td>4.0</td>\n",
       "      <td>F</td>\n",
       "      <td>Movies</td>\n",
       "    </tr>\n",
       "  </tbody>\n",
       "</table>\n",
       "</div>"
      ],
      "text/plain": [
       "   userId  timestamp                                       review  \\\n",
       "0    4259      11900  Finally, Something for (Relatively) Nothing   \n",
       "1    4259      12000                                    Shocking!   \n",
       "2    4259      12000                          Simply Shaggadelic!   \n",
       "3    4259      12000                       Better Than The First!   \n",
       "4    4259      12000          Blair Witch made me appreciate this   \n",
       "\n",
       "                                      item  rating  helpfulness gender  \\\n",
       "0                             MyPoints.com     4.0          4.0      F   \n",
       "1                              Sixth Sense     5.0          4.0      F   \n",
       "2    Austin Powers: The Spy Who Shagged Me     5.0          4.0      F   \n",
       "3                              Toy Story 2     5.0          3.0      F   \n",
       "4  Star Wars Episode I: The Phantom Menace     2.0          4.0      F   \n",
       "\n",
       "                   category  \n",
       "0  Online Stores & Services  \n",
       "1                    Movies  \n",
       "2                    Movies  \n",
       "3                    Movies  \n",
       "4                    Movies  "
      ]
     },
     "execution_count": 277,
     "metadata": {},
     "output_type": "execute_result"
    }
   ],
   "source": [
    "dataEpinions.head() "
   ]
  },
  {
   "cell_type": "code",
   "execution_count": 278,
   "id": "cc693b5b",
   "metadata": {},
   "outputs": [
    {
     "name": "stdout",
     "output_type": "stream",
     "text": [
      "<class 'pandas.core.frame.DataFrame'>\n",
      "RangeIndex: 2899 entries, 0 to 2898\n",
      "Data columns (total 8 columns):\n",
      " #   Column       Non-Null Count  Dtype  \n",
      "---  ------       --------------  -----  \n",
      " 0   userId       2899 non-null   int64  \n",
      " 1   timestamp    2899 non-null   int64  \n",
      " 2   review       2899 non-null   object \n",
      " 3   item         2899 non-null   object \n",
      " 4   rating       2899 non-null   float64\n",
      " 5   helpfulness  2899 non-null   float64\n",
      " 6   gender       2899 non-null   object \n",
      " 7   category     2899 non-null   object \n",
      "dtypes: float64(2), int64(2), object(4)\n",
      "memory usage: 181.3+ KB\n"
     ]
    }
   ],
   "source": [
    "dataEpinions.info()"
   ]
  },
  {
   "cell_type": "code",
   "execution_count": 279,
   "id": "53ced714",
   "metadata": {},
   "outputs": [
    {
     "data": {
      "text/html": [
       "<div>\n",
       "<style scoped>\n",
       "    .dataframe tbody tr th:only-of-type {\n",
       "        vertical-align: middle;\n",
       "    }\n",
       "\n",
       "    .dataframe tbody tr th {\n",
       "        vertical-align: top;\n",
       "    }\n",
       "\n",
       "    .dataframe thead th {\n",
       "        text-align: right;\n",
       "    }\n",
       "</style>\n",
       "<table border=\"1\" class=\"dataframe\">\n",
       "  <thead>\n",
       "    <tr style=\"text-align: right;\">\n",
       "      <th></th>\n",
       "      <th>helpfulness</th>\n",
       "      <th>rating</th>\n",
       "    </tr>\n",
       "  </thead>\n",
       "  <tbody>\n",
       "    <tr>\n",
       "      <th>helpfulness</th>\n",
       "      <td>1.000000</td>\n",
       "      <td>-0.016832</td>\n",
       "    </tr>\n",
       "    <tr>\n",
       "      <th>rating</th>\n",
       "      <td>-0.016832</td>\n",
       "      <td>1.000000</td>\n",
       "    </tr>\n",
       "  </tbody>\n",
       "</table>\n",
       "</div>"
      ],
      "text/plain": [
       "             helpfulness    rating\n",
       "helpfulness     1.000000 -0.016832\n",
       "rating         -0.016832  1.000000"
      ]
     },
     "execution_count": 279,
     "metadata": {},
     "output_type": "execute_result"
    }
   ],
   "source": [
    "# Correlation between helpfulness and Rating\n",
    "dataEpinions[['helpfulness', 'rating']].corr()"
   ]
  },
  {
   "cell_type": "code",
   "execution_count": 280,
   "id": "3dbb642a",
   "metadata": {},
   "outputs": [
    {
     "data": {
      "text/html": [
       "<div>\n",
       "<style scoped>\n",
       "    .dataframe tbody tr th:only-of-type {\n",
       "        vertical-align: middle;\n",
       "    }\n",
       "\n",
       "    .dataframe tbody tr th {\n",
       "        vertical-align: top;\n",
       "    }\n",
       "\n",
       "    .dataframe thead th {\n",
       "        text-align: right;\n",
       "    }\n",
       "</style>\n",
       "<table border=\"1\" class=\"dataframe\">\n",
       "  <thead>\n",
       "    <tr style=\"text-align: right;\">\n",
       "      <th></th>\n",
       "      <th>category_code</th>\n",
       "      <th>rating</th>\n",
       "    </tr>\n",
       "  </thead>\n",
       "  <tbody>\n",
       "    <tr>\n",
       "      <th>category_code</th>\n",
       "      <td>1.000000</td>\n",
       "      <td>-0.140576</td>\n",
       "    </tr>\n",
       "    <tr>\n",
       "      <th>rating</th>\n",
       "      <td>-0.140576</td>\n",
       "      <td>1.000000</td>\n",
       "    </tr>\n",
       "  </tbody>\n",
       "</table>\n",
       "</div>"
      ],
      "text/plain": [
       "               category_code    rating\n",
       "category_code       1.000000 -0.140576\n",
       "rating             -0.140576  1.000000"
      ]
     },
     "execution_count": 280,
     "metadata": {},
     "output_type": "execute_result"
    }
   ],
   "source": [
    "# Correlation between Category and Rating\n",
    "ord_enc = OrdinalEncoder()\n",
    "dataEpinions[\"category_code\"] = ord_enc.fit_transform(dataEpinions[[\"category\"]])\n",
    "dataEpinions[['category_code', 'rating']].corr()"
   ]
  },
  {
   "cell_type": "code",
   "execution_count": 1,
   "id": "368b2fcb",
   "metadata": {},
   "outputs": [
    {
     "ename": "NameError",
     "evalue": "name 'OrdinalEncoder' is not defined",
     "output_type": "error",
     "traceback": [
      "\u001b[1;31m---------------------------------------------------------------------------\u001b[0m",
      "\u001b[1;31mNameError\u001b[0m                                 Traceback (most recent call last)",
      "Input \u001b[1;32mIn [1]\u001b[0m, in \u001b[0;36m<cell line: 2>\u001b[1;34m()\u001b[0m\n\u001b[0;32m      1\u001b[0m \u001b[38;5;66;03m# Correlation between Review and Rating \u001b[39;00m\n\u001b[1;32m----> 2\u001b[0m ord_enc \u001b[38;5;241m=\u001b[39m \u001b[43mOrdinalEncoder\u001b[49m()\n\u001b[0;32m      3\u001b[0m dataEpinions[\u001b[38;5;124m\"\u001b[39m\u001b[38;5;124mreview_code\u001b[39m\u001b[38;5;124m\"\u001b[39m] \u001b[38;5;241m=\u001b[39m ord_enc\u001b[38;5;241m.\u001b[39mfit_transform(dataEpinions[[\u001b[38;5;124m\"\u001b[39m\u001b[38;5;124mreview\u001b[39m\u001b[38;5;124m\"\u001b[39m]])\n\u001b[0;32m      4\u001b[0m dataEpinions[[\u001b[38;5;124m'\u001b[39m\u001b[38;5;124mreview_code\u001b[39m\u001b[38;5;124m'\u001b[39m, \u001b[38;5;124m'\u001b[39m\u001b[38;5;124mrating\u001b[39m\u001b[38;5;124m'\u001b[39m]]\u001b[38;5;241m.\u001b[39mcorr()\n",
      "\u001b[1;31mNameError\u001b[0m: name 'OrdinalEncoder' is not defined"
     ]
    }
   ],
   "source": [
    "# Correlation between Review and Rating \n",
    "ord_enc = OrdinalEncoder()\n",
    "dataEpinions[\"review_code\"] = ord_enc.fit_transform(dataEpinions[[\"review\"]])\n",
    "dataEpinions[['review_code', 'rating']].corr()"
   ]
  },
  {
   "cell_type": "code",
   "execution_count": 282,
   "id": "69a1a891",
   "metadata": {},
   "outputs": [
    {
     "data": {
      "text/html": [
       "<div>\n",
       "<style scoped>\n",
       "    .dataframe tbody tr th:only-of-type {\n",
       "        vertical-align: middle;\n",
       "    }\n",
       "\n",
       "    .dataframe tbody tr th {\n",
       "        vertical-align: top;\n",
       "    }\n",
       "\n",
       "    .dataframe thead th {\n",
       "        text-align: right;\n",
       "    }\n",
       "</style>\n",
       "<table border=\"1\" class=\"dataframe\">\n",
       "  <thead>\n",
       "    <tr style=\"text-align: right;\">\n",
       "      <th></th>\n",
       "      <th>gender_code</th>\n",
       "      <th>rating</th>\n",
       "    </tr>\n",
       "  </thead>\n",
       "  <tbody>\n",
       "    <tr>\n",
       "      <th>gender_code</th>\n",
       "      <td>1.000000</td>\n",
       "      <td>0.018105</td>\n",
       "    </tr>\n",
       "    <tr>\n",
       "      <th>rating</th>\n",
       "      <td>0.018105</td>\n",
       "      <td>1.000000</td>\n",
       "    </tr>\n",
       "  </tbody>\n",
       "</table>\n",
       "</div>"
      ],
      "text/plain": [
       "             gender_code    rating\n",
       "gender_code     1.000000  0.018105\n",
       "rating          0.018105  1.000000"
      ]
     },
     "execution_count": 282,
     "metadata": {},
     "output_type": "execute_result"
    }
   ],
   "source": [
    "ord_enc = OrdinalEncoder()\n",
    "dataEpinions[\"gender_code\"] = ord_enc.fit_transform(dataEpinions[[\"gender\"]])\n",
    "dataEpinions[['gender_code', 'rating']].corr()"
   ]
  },
  {
   "cell_type": "markdown",
   "id": "6b49fa85",
   "metadata": {},
   "source": [
    "## Analysis on the correlation between different categories and rating\n",
    "The most Correlated features are category and rating since they are the closest to -1. (which is a completely linear negative relationship. The least Correlated features are helpfulness and rating as their relationship is the least close to -1/1, therefore it is the least correlated feature to rating. By training the linear regression model with the most and least correlated features, we will significantly improve the accuracy of our prediction results. "
   ]
  },
  {
   "cell_type": "markdown",
   "id": "db1cb9a6",
   "metadata": {},
   "source": [
    "### Split Training and Testing Data\n",
    "* Machine learning models are trained to help make predictions for the future. Normally, we need to randomly split the dataset into training and testing sets, where we use the training set to train the model, and then leverage the well-trained model to make predictions on the testing set. \n",
    "* To further investigate whether the size of the training/testing data affects the model performance, please random split the data into training and testing sets with different sizes:\n",
    "    * Case 1: training data containing 10% of the entire data;\n",
    "    * Case 2: training data containing 90% of the entire data. \n",
    "* Print the shape of training and testing sets in the two cases. "
   ]
  },
  {
   "cell_type": "code",
   "execution_count": 283,
   "id": "fcda5aab",
   "metadata": {},
   "outputs": [
    {
     "name": "stdout",
     "output_type": "stream",
     "text": [
      "train first case: (2609, 11) \n",
      " test: (290, 11)\n"
     ]
    }
   ],
   "source": [
    "train, test = train_test_split(dataEpinions, test_size = 0.1, random_state=12)\n",
    "print(\"train first case:\", train.shape,\"\\n\", \"test:\", test.shape)"
   ]
  },
  {
   "cell_type": "code",
   "execution_count": 284,
   "id": "aa7628f5",
   "metadata": {},
   "outputs": [
    {
     "name": "stdout",
     "output_type": "stream",
     "text": [
      "train second case: (289, 11) \n",
      " test: (2610, 11)\n"
     ]
    }
   ],
   "source": [
    "train2, test2 = train_test_split(dataEpinions, test_size= 0.9, random_state=12)\n",
    "print(\"train second case:\", train2.shape,\"\\n\", \"test:\", test2.shape)"
   ]
  },
  {
   "cell_type": "markdown",
   "id": "949c68aa",
   "metadata": {},
   "source": [
    "### Train Linear Regression Models with Feature Selection under Cases 1 & 2\n",
    "* When training a machine learning model for prediction, we may need to select the most important/correlated input features for more accurate results. \n",
    "* To investigate whether feature selection affects the model performance, please select __two most correlated features and two least correlated features__ regarding rating, respectively. \n",
    "* Train __four__ linear regression models by following the conditions:\n",
    "    - (model-a) using the training/testing data in __case 1__ with __two most__ correlated input features\n",
    "    - (model-b) using the training/testing data in __case 1__ with __two least__ correlated input features\n",
    "    - (model-c) using the training/testing data in __case 2__ with __two most__ correlated input features\n",
    "    - (model-d) using the training/testing data in __case 2__ with __two least__ correlated input features\n",
    "* By doing this, we can verify the impacts of the size of traing/testing data on the model performance via comparing model-a and model-c (or model-b and model-d); meanwhile the impacts of feature selection can be validated via comparing model-a and model-b (or model-c and model-d).    "
   ]
  },
  {
   "cell_type": "code",
   "execution_count": 285,
   "id": "970c1f3a",
   "metadata": {},
   "outputs": [
    {
     "data": {
      "text/plain": [
       "LinearRegression()"
      ]
     },
     "execution_count": 285,
     "metadata": {},
     "output_type": "execute_result"
    }
   ],
   "source": [
    "reg = linear_model.LinearRegression()\n",
    "\n",
    "# MODEL A\n",
    "modelA_X = train[['review_code', 'category_code']]\n",
    "modelA_y = train['rating']\n",
    "\n",
    "modelA_test_X = test[['review_code', 'category_code']]\n",
    "modelA_test_y = test['rating']\n",
    "reg.fit(modelA_X, modelA_y)\n",
    "\n",
    "# MODEL B\n",
    "modelB_X = train[['helpfulness', 'gender_code']]\n",
    "modelB_y = train['rating']\n",
    "\n",
    "modelB_test_X = test[['helpfulness', 'gender_code']]\n",
    "modelB_test_y = test['rating']\n",
    "reg.fit(modelB_X, modelB_y)\n",
    "\n",
    "# MODEL C\n",
    "modelC_X = train2[['review_code', 'category_code']]\n",
    "modelC_y = train2['rating']\n",
    "\n",
    "modelC_test_X = test2[['review_code', 'category_code']]\n",
    "modelC_test_y = test2['rating']\n",
    "reg.fit(modelC_X, modelC_y)\n",
    "\n",
    "# MODEL D\n",
    "modelD_X = train2[['helpfulness', 'gender_code']]\n",
    "modelD_y = train2['rating']\n",
    "\n",
    "modelD_test_X = test2[['helpfulness', 'gender_code']]\n",
    "modelD_test_y = test2['rating']\n",
    "reg.fit(modelD_X, modelD_y)"
   ]
  },
  {
   "cell_type": "markdown",
   "id": "47eaa1db",
   "metadata": {},
   "source": [
    "### Evaluate Models\n",
    "* Evaluate the performance of the four models with two metrics, including MSE and Root MSE\n",
    "* Print the results of the four models regarding the two metrics"
   ]
  },
  {
   "cell_type": "code",
   "execution_count": 286,
   "id": "893b9b77",
   "metadata": {},
   "outputs": [
    {
     "name": "stdout",
     "output_type": "stream",
     "text": [
      "MSE: 603203.2841447439\n",
      "Root MSE: 776.6616278307715\n"
     ]
    }
   ],
   "source": [
    "predicted = reg.predict(modelA_test_X)\n",
    "mse = ((np.array(modelA_test_y)-predicted)**2).sum()/len(modelA_test_y)\n",
    "print(\"MSE:\", mse)\n",
    "print(\"Root MSE:\", np.sqrt(mse))"
   ]
  },
  {
   "cell_type": "code",
   "execution_count": 287,
   "id": "6fcacab3",
   "metadata": {},
   "outputs": [
    {
     "name": "stdout",
     "output_type": "stream",
     "text": [
      "MSE: 1.7313557882031276\n",
      "Root MSE: 1.3158099362001823\n"
     ]
    }
   ],
   "source": [
    "predicted = reg.predict(modelB_test_X)\n",
    "mse = ((np.array(modelB_test_y)-predicted)**2).sum()/len(modelB_test_y)\n",
    "print(\"MSE:\", mse)\n",
    "print(\"Root MSE:\", np.sqrt(mse))"
   ]
  },
  {
   "cell_type": "code",
   "execution_count": 288,
   "id": "7d4a496f",
   "metadata": {},
   "outputs": [
    {
     "name": "stdout",
     "output_type": "stream",
     "text": [
      "MSE: 578447.2943463807\n",
      "Root MSE: 760.5572262140311\n"
     ]
    }
   ],
   "source": [
    "predicted = reg.predict(modelC_test_X)\n",
    "mse = ((np.array(modelC_test_y)-predicted)**2).sum()/len(modelC_test_y)\n",
    "print(\"MSE:\", mse)\n",
    "print(\"Root MSE:\", np.sqrt(mse))"
   ]
  },
  {
   "cell_type": "code",
   "execution_count": 289,
   "id": "d5ed373b",
   "metadata": {},
   "outputs": [
    {
     "name": "stdout",
     "output_type": "stream",
     "text": [
      "MSE: 1.8517220989053023\n",
      "Root MSE: 1.3607799597676702\n"
     ]
    }
   ],
   "source": [
    "predicted = reg.predict(modelD_test_X)\n",
    "mse = ((np.array(modelD_test_y)-predicted)**2).sum()/len(modelD_test_y)\n",
    "print(\"MSE:\", mse)\n",
    "print(\"Root MSE:\", np.sqrt(mse))"
   ]
  },
  {
   "cell_type": "markdown",
   "id": "3bc5757e",
   "metadata": {},
   "source": [
    "### Visualize, Compare and Analyze the Results\n",
    "* Visulize the results, and perform ___insightful analysis___ on the obtained results. For better visualization, you may need to carefully set the scale for the y-axis.\n",
    "* Normally, the model trained with most correlated features and more training data will get better results. Do you obtain the similar observations? If not, please ___explain the possible reasons___."
   ]
  },
  {
   "cell_type": "code",
   "execution_count": 290,
   "id": "71c6a04b",
   "metadata": {
    "scrolled": true
   },
   "outputs": [
    {
     "data": {
      "text/plain": [
       "<seaborn.axisgrid.PairGrid at 0x2856d816bb0>"
      ]
     },
     "execution_count": 290,
     "metadata": {},
     "output_type": "execute_result"
    },
    {
     "data": {
      "image/png": "[encoded data removed]",
      "text/plain": [
       "<Figure size 720x180 with 4 Axes>"
      ]
     },
     "metadata": {
      "needs_background": "light"
     },
     "output_type": "display_data"
    }
   ],
   "source": [
    "# Pairplot\n",
    "sns.pairplot(dataEpinions,\n",
    "    x_vars=[\"category_code\", \"review_code\", \"gender_code\", \"helpfulness\"],\n",
    "    y_vars=[\"rating\"])"
   ]
  },
  {
   "cell_type": "code",
   "execution_count": 294,
   "id": "c18ade0d",
   "metadata": {},
   "outputs": [
    {
     "data": {
      "image/png": "[encoded data removed]",
      "text/plain": [
       "<Figure size 360x360 with 1 Axes>"
      ]
     },
     "metadata": {
      "needs_background": "light"
     },
     "output_type": "display_data"
    }
   ],
   "source": [
    "# Lmplot \n",
    "p = sns.lmplot('category_code', 'review_code', dataEpinions, height=5, fit_reg=False)"
   ]
  },
  {
   "cell_type": "code",
   "execution_count": 297,
   "id": "082b7481",
   "metadata": {},
   "outputs": [
    {
     "data": {
      "image/png": "[encoded data removed]",
      "text/plain": [
       "<Figure size 360x360 with 1 Axes>"
      ]
     },
     "metadata": {
      "needs_background": "light"
     },
     "output_type": "display_data"
    }
   ],
   "source": [
    "# Lmplot \n",
    "p = sns.lmplot('helpfulness', 'gender_code', dataEpinions, height=5, fit_reg=False)"
   ]
  },
  {
   "cell_type": "code",
   "execution_count": 298,
   "id": "c2d13cdf",
   "metadata": {},
   "outputs": [
    {
     "data": {
      "text/plain": [
       "<AxesSubplot:>"
      ]
     },
     "execution_count": 298,
     "metadata": {},
     "output_type": "execute_result"
    },
    {
     "data": {
      "image/png": "[encoded data removed]",
      "text/plain": [
       "<Figure size 432x288 with 2 Axes>"
      ]
     },
     "metadata": {
      "needs_background": "light"
     },
     "output_type": "display_data"
    }
   ],
   "source": [
    "# Heatmap\n",
    "sns.heatmap(dataEpinions.corr(), cmap=\"YlGnBu\", annot = True)"
   ]
  },
  {
   "cell_type": "markdown",
   "id": "870a8fbe",
   "metadata": {},
   "source": [
    "### Analyse The Results:\n",
    "The results that were gathered from my performance data is that the models have an extremely low correlation with the rating variable as shown in the plots."
   ]
  }
 ],
 "metadata": {
  "kernelspec": {
   "display_name": "Python 3 (ipykernel)",
   "language": "python",
   "name": "python3"
  },
  "language_info": {
   "codemirror_mode": {
    "name": "ipython",
    "version": 3
   },
   "file_extension": ".py",
   "mimetype": "text/x-python",
   "name": "python",
   "nbconvert_exporter": "python",
   "pygments_lexer": "ipython3",
   "version": "3.9.12"
  }
 },
 "nbformat": 4,
 "nbformat_minor": 5
}
