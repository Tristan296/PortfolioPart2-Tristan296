{
 "cells": [
  {
   "cell_type": "markdown",
   "id": "7f22d783",
   "metadata": {},
   "source": [
    "## Analysis of Epinions Dataset Part 2"
   ]
  },
  {
   "cell_type": "markdown",
   "id": "91e4202c",
   "metadata": {},
   "source": [
    "The goal of the second analysis task is to train linear regression models to predict users' ratings towards items. This involves a standard Data Science workflow: exploring data, building models, making predictions, and evaluating results. In this task, we will explore the impacts of feature selections and different sizes of training/testing data on the model performance. We will use another cleaned Epinions sub-dataset that is different from the one in Analysis of Epinions Data task 1. "
   ]
  },
  {
   "cell_type": "markdown",
   "id": "1ff12826",
   "metadata": {},
   "source": [
    "### Import Cleaned Epinions Dataset\n",
    "The csv file named 'Epinions_cleaned_data_portfolio2.csv'is provided. You may need to use the Pandas method, i.e., `to_csv`, for doing this. After that, please import the csv file (i.e., 'Epinions_cleaned_data_portfolio2') and print out its total length."
   ]
  },
  {
   "cell_type": "code",
   "execution_count": 1,
   "id": "1cfc059c",
   "metadata": {},
   "outputs": [],
   "source": [
    "import pandas as pd\n",
    "import numpy as np\n",
    "from sklearn.model_selection import train_test_split\n",
    "from sklearn import linear_model\n",
    "from sklearn.metrics import r2_score\n",
    "\n",
    "import seaborn as sns\n",
    "import matplotlib.pylab as plt\n",
    "%matplotlib inline"
   ]
  },
  {
   "cell_type": "markdown",
   "id": "72d57113",
   "metadata": {},
   "source": [
    "### Explore the Dataset\n",
    "\n",
    "* Use the methods, i.e., `head()` and `info()`, to have a rough picture about the data, e.g., how many columns, and the data types of each column. \n",
    "* As our goal is to predict ratings given other columns, please get the correlations between helpfulness/gender/category/review and rating by using the `corr()` method.\n",
    "* To get the correlations between different features, you may need to first convert the categorical features (i.e., gender, category and review) into numerial values. For doing this, you may need to import `OrdinalEncoder` from `sklearn.preprocessing` (refer to the useful exmaples [here](https://pbpython.com/categorical-encoding.html))\n",
    "* Please provide ___necessary explanations/analysis___ on the correlations, and figure out which are the ___most___ and ___least___ corrleated features regarding rating. Try to ___discuss___ how the correlation will affect the final prediction results, if we use these features to train a regression model for rating prediction. In what follows, we will conduct experiments to verify your hypothesis."
   ]
  },
  {
   "cell_type": "code",
   "execution_count": 2,
   "id": "0b17b364",
   "metadata": {},
   "outputs": [
    {
     "name": "stdout",
     "output_type": "stream",
     "text": [
      "2899\n"
     ]
    }
   ],
   "source": [
    "df = pd.read_csv('Epinions_cleaned_data_portfolio_2.csv')\n",
    "print(len(df))"
   ]
  },
  {
   "cell_type": "code",
   "execution_count": 4,
   "id": "452219d8",
   "metadata": {},
   "outputs": [
    {
     "data": {
      "text/html": [
       "<div>\n",
       "<style scoped>\n",
       "    .dataframe tbody tr th:only-of-type {\n",
       "        vertical-align: middle;\n",
       "    }\n",
       "\n",
       "    .dataframe tbody tr th {\n",
       "        vertical-align: top;\n",
       "    }\n",
       "\n",
       "    .dataframe thead th {\n",
       "        text-align: right;\n",
       "    }\n",
       "</style>\n",
       "<table border=\"1\" class=\"dataframe\">\n",
       "  <thead>\n",
       "    <tr style=\"text-align: right;\">\n",
       "      <th></th>\n",
       "      <th>userId</th>\n",
       "      <th>timestamp</th>\n",
       "      <th>review</th>\n",
       "      <th>item</th>\n",
       "      <th>rating</th>\n",
       "      <th>helpfulness</th>\n",
       "      <th>gender</th>\n",
       "      <th>category</th>\n",
       "    </tr>\n",
       "  </thead>\n",
       "  <tbody>\n",
       "    <tr>\n",
       "      <th>0</th>\n",
       "      <td>4259</td>\n",
       "      <td>11900</td>\n",
       "      <td>Finally, Something for (Relatively) Nothing</td>\n",
       "      <td>MyPoints.com</td>\n",
       "      <td>4.0</td>\n",
       "      <td>4.0</td>\n",
       "      <td>F</td>\n",
       "      <td>Online Stores &amp; Services</td>\n",
       "    </tr>\n",
       "    <tr>\n",
       "      <th>1</th>\n",
       "      <td>4259</td>\n",
       "      <td>12000</td>\n",
       "      <td>Shocking!</td>\n",
       "      <td>Sixth Sense</td>\n",
       "      <td>5.0</td>\n",
       "      <td>4.0</td>\n",
       "      <td>F</td>\n",
       "      <td>Movies</td>\n",
       "    </tr>\n",
       "    <tr>\n",
       "      <th>2</th>\n",
       "      <td>4259</td>\n",
       "      <td>12000</td>\n",
       "      <td>Simply Shaggadelic!</td>\n",
       "      <td>Austin Powers: The Spy Who Shagged Me</td>\n",
       "      <td>5.0</td>\n",
       "      <td>4.0</td>\n",
       "      <td>F</td>\n",
       "      <td>Movies</td>\n",
       "    </tr>\n",
       "    <tr>\n",
       "      <th>3</th>\n",
       "      <td>4259</td>\n",
       "      <td>12000</td>\n",
       "      <td>Better Than The First!</td>\n",
       "      <td>Toy Story 2</td>\n",
       "      <td>5.0</td>\n",
       "      <td>3.0</td>\n",
       "      <td>F</td>\n",
       "      <td>Movies</td>\n",
       "    </tr>\n",
       "    <tr>\n",
       "      <th>4</th>\n",
       "      <td>4259</td>\n",
       "      <td>12000</td>\n",
       "      <td>Blair Witch made me appreciate this</td>\n",
       "      <td>Star Wars Episode I: The Phantom Menace</td>\n",
       "      <td>2.0</td>\n",
       "      <td>4.0</td>\n",
       "      <td>F</td>\n",
       "      <td>Movies</td>\n",
       "    </tr>\n",
       "  </tbody>\n",
       "</table>\n",
       "</div>"
      ],
      "text/plain": [
       "   userId  timestamp                                       review  \\\n",
       "0    4259      11900  Finally, Something for (Relatively) Nothing   \n",
       "1    4259      12000                                    Shocking!   \n",
       "2    4259      12000                          Simply Shaggadelic!   \n",
       "3    4259      12000                       Better Than The First!   \n",
       "4    4259      12000          Blair Witch made me appreciate this   \n",
       "\n",
       "                                      item  rating  helpfulness gender  \\\n",
       "0                             MyPoints.com     4.0          4.0      F   \n",
       "1                              Sixth Sense     5.0          4.0      F   \n",
       "2    Austin Powers: The Spy Who Shagged Me     5.0          4.0      F   \n",
       "3                              Toy Story 2     5.0          3.0      F   \n",
       "4  Star Wars Episode I: The Phantom Menace     2.0          4.0      F   \n",
       "\n",
       "                   category  \n",
       "0  Online Stores & Services  \n",
       "1                    Movies  \n",
       "2                    Movies  \n",
       "3                    Movies  \n",
       "4                    Movies  "
      ]
     },
     "execution_count": 4,
     "metadata": {},
     "output_type": "execute_result"
    }
   ],
   "source": [
    "df.head()"
   ]
  },
  {
   "cell_type": "code",
   "execution_count": 5,
   "id": "8b5e05b2",
   "metadata": {},
   "outputs": [
    {
     "name": "stdout",
     "output_type": "stream",
     "text": [
      "<class 'pandas.core.frame.DataFrame'>\n",
      "RangeIndex: 2899 entries, 0 to 2898\n",
      "Data columns (total 8 columns):\n",
      " #   Column       Non-Null Count  Dtype  \n",
      "---  ------       --------------  -----  \n",
      " 0   userId       2899 non-null   int64  \n",
      " 1   timestamp    2899 non-null   int64  \n",
      " 2   review       2899 non-null   object \n",
      " 3   item         2899 non-null   object \n",
      " 4   rating       2899 non-null   float64\n",
      " 5   helpfulness  2899 non-null   float64\n",
      " 6   gender       2899 non-null   object \n",
      " 7   category     2899 non-null   object \n",
      "dtypes: float64(2), int64(2), object(4)\n",
      "memory usage: 181.3+ KB\n"
     ]
    }
   ],
   "source": [
    "df.info()"
   ]
  },
  {
   "cell_type": "markdown",
   "id": "0a5500ca",
   "metadata": {},
   "source": [
    "### Remark\n",
    "- OrdinalEncoder is used to encode categorical features as an integer array\n",
    "- For simplicity, here we assume a dummy order of these categorical values\n",
    "- You can use any other possible solutions to convert the categorical features as an integer array"
   ]
  },
  {
   "cell_type": "code",
   "execution_count": 2,
   "id": "6fc1c6c7",
   "metadata": {},
   "outputs": [
    {
     "ename": "NameError",
     "evalue": "name 'df' is not defined",
     "output_type": "error",
     "traceback": [
      "\u001b[1;31m---------------------------------------------------------------------------\u001b[0m",
      "\u001b[1;31mNameError\u001b[0m                                 Traceback (most recent call last)",
      "Cell \u001b[1;32mIn [2], line 8\u001b[0m\n\u001b[0;32m      5\u001b[0m ord_enc\u001b[39m=\u001b[39mOrdinalEncoder(dtype\u001b[39m=\u001b[39m\u001b[39mint\u001b[39m)\n\u001b[0;32m      6\u001b[0m \u001b[39m#print(df.columns.tolist())\u001b[39;00m\n\u001b[1;32m----> 8\u001b[0m df[\u001b[39m\"\u001b[39m\u001b[39mcategory_code\u001b[39m\u001b[39m\"\u001b[39m] \u001b[39m=\u001b[39m ord_enc\u001b[39m.\u001b[39mfit_transform(df[[\u001b[39m\"\u001b[39m\u001b[39mcategory\u001b[39m\u001b[39m\"\u001b[39m]])\n\u001b[0;32m      9\u001b[0m df[\u001b[39m\"\u001b[39m\u001b[39mgender_code\u001b[39m\u001b[39m\"\u001b[39m] \u001b[39m=\u001b[39m ord_enc\u001b[39m.\u001b[39mfit_transform(df[[\u001b[39m\"\u001b[39m\u001b[39mgender\u001b[39m\u001b[39m\"\u001b[39m]])\n\u001b[0;32m     10\u001b[0m df[\u001b[39m\"\u001b[39m\u001b[39mreview_code\u001b[39m\u001b[39m\"\u001b[39m] \u001b[39m=\u001b[39m ord_enc\u001b[39m.\u001b[39mfit_transform(df[[\u001b[39m\"\u001b[39m\u001b[39mreview\u001b[39m\u001b[39m\"\u001b[39m]])\n",
      "\u001b[1;31mNameError\u001b[0m: name 'df' is not defined"
     ]
    }
   ],
   "source": [
    "from sklearn.preprocessing import OrdinalEncoder\n",
    "\n",
    "# convert categorical values into numerial values, e.g., category -> category_code\n",
    "#ord_enc = OrdinalEncoder(dtype=int)\n",
    "ord_enc=OrdinalEncoder(dtype=int)\n",
    "#print(df.columns.tolist())\n",
    "\n",
    "df[\"category_code\"] = ord_enc.fit_transform(df[[\"category\"]])\n",
    "df[\"gender_code\"] = ord_enc.fit_transform(df[[\"gender\"]])\n",
    "df[\"review_code\"] = ord_enc.fit_transform(df[[\"review\"]])\n",
    "\n",
    "#print(df.columns.tolist())\n",
    "\n",
    "#print(df.columns.tolist())\n",
    "\n",
    "\n",
    "#df[['category_code', 'gender_code', 'review_code']] = ord_enc.fit_transform(df[['category', 'gender', 'review']])\n",
    "#df[[\"category_code\"]]=ord_enc.fit_transform(df[[\"category\"]])                                                                           \n",
    "                                                                            \n",
    "# df[[\"category\", \"category_code\", \"review\", \"review_code\", \"gender\", \"gender_code\"]].head(11)"
   ]
  },
  {
   "cell_type": "code",
   "execution_count": 7,
   "id": "91476038",
   "metadata": {},
   "outputs": [
    {
     "data": {
      "text/html": [
       "<div>\n",
       "<style scoped>\n",
       "    .dataframe tbody tr th:only-of-type {\n",
       "        vertical-align: middle;\n",
       "    }\n",
       "\n",
       "    .dataframe tbody tr th {\n",
       "        vertical-align: top;\n",
       "    }\n",
       "\n",
       "    .dataframe thead th {\n",
       "        text-align: right;\n",
       "    }\n",
       "</style>\n",
       "<table border=\"1\" class=\"dataframe\">\n",
       "  <thead>\n",
       "    <tr style=\"text-align: right;\">\n",
       "      <th></th>\n",
       "      <th>userId</th>\n",
       "      <th>timestamp</th>\n",
       "      <th>review</th>\n",
       "      <th>item</th>\n",
       "      <th>rating</th>\n",
       "      <th>helpfulness</th>\n",
       "      <th>gender</th>\n",
       "      <th>category</th>\n",
       "      <th>category_code</th>\n",
       "      <th>gender_code</th>\n",
       "      <th>review_code</th>\n",
       "    </tr>\n",
       "  </thead>\n",
       "  <tbody>\n",
       "    <tr>\n",
       "      <th>0</th>\n",
       "      <td>4259</td>\n",
       "      <td>11900</td>\n",
       "      <td>Finally, Something for (Relatively) Nothing</td>\n",
       "      <td>MyPoints.com</td>\n",
       "      <td>4.0</td>\n",
       "      <td>4.0</td>\n",
       "      <td>F</td>\n",
       "      <td>Online Stores &amp; Services</td>\n",
       "      <td>6</td>\n",
       "      <td>0</td>\n",
       "      <td>856</td>\n",
       "    </tr>\n",
       "    <tr>\n",
       "      <th>1</th>\n",
       "      <td>4259</td>\n",
       "      <td>12000</td>\n",
       "      <td>Shocking!</td>\n",
       "      <td>Sixth Sense</td>\n",
       "      <td>5.0</td>\n",
       "      <td>4.0</td>\n",
       "      <td>F</td>\n",
       "      <td>Movies</td>\n",
       "      <td>5</td>\n",
       "      <td>0</td>\n",
       "      <td>1985</td>\n",
       "    </tr>\n",
       "    <tr>\n",
       "      <th>2</th>\n",
       "      <td>4259</td>\n",
       "      <td>12000</td>\n",
       "      <td>Simply Shaggadelic!</td>\n",
       "      <td>Austin Powers: The Spy Who Shagged Me</td>\n",
       "      <td>5.0</td>\n",
       "      <td>4.0</td>\n",
       "      <td>F</td>\n",
       "      <td>Movies</td>\n",
       "      <td>5</td>\n",
       "      <td>0</td>\n",
       "      <td>2006</td>\n",
       "    </tr>\n",
       "    <tr>\n",
       "      <th>3</th>\n",
       "      <td>4259</td>\n",
       "      <td>12000</td>\n",
       "      <td>Better Than The First!</td>\n",
       "      <td>Toy Story 2</td>\n",
       "      <td>5.0</td>\n",
       "      <td>3.0</td>\n",
       "      <td>F</td>\n",
       "      <td>Movies</td>\n",
       "      <td>5</td>\n",
       "      <td>0</td>\n",
       "      <td>472</td>\n",
       "    </tr>\n",
       "    <tr>\n",
       "      <th>4</th>\n",
       "      <td>4259</td>\n",
       "      <td>12000</td>\n",
       "      <td>Blair Witch made me appreciate this</td>\n",
       "      <td>Star Wars Episode I: The Phantom Menace</td>\n",
       "      <td>2.0</td>\n",
       "      <td>4.0</td>\n",
       "      <td>F</td>\n",
       "      <td>Movies</td>\n",
       "      <td>5</td>\n",
       "      <td>0</td>\n",
       "      <td>493</td>\n",
       "    </tr>\n",
       "  </tbody>\n",
       "</table>\n",
       "</div>"
      ],
      "text/plain": [
       "   userId  timestamp                                       review  \\\n",
       "0    4259      11900  Finally, Something for (Relatively) Nothing   \n",
       "1    4259      12000                                    Shocking!   \n",
       "2    4259      12000                          Simply Shaggadelic!   \n",
       "3    4259      12000                       Better Than The First!   \n",
       "4    4259      12000          Blair Witch made me appreciate this   \n",
       "\n",
       "                                      item  rating  helpfulness gender  \\\n",
       "0                             MyPoints.com     4.0          4.0      F   \n",
       "1                              Sixth Sense     5.0          4.0      F   \n",
       "2    Austin Powers: The Spy Who Shagged Me     5.0          4.0      F   \n",
       "3                              Toy Story 2     5.0          3.0      F   \n",
       "4  Star Wars Episode I: The Phantom Menace     2.0          4.0      F   \n",
       "\n",
       "                   category  category_code  gender_code  review_code  \n",
       "0  Online Stores & Services              6            0          856  \n",
       "1                    Movies              5            0         1985  \n",
       "2                    Movies              5            0         2006  \n",
       "3                    Movies              5            0          472  \n",
       "4                    Movies              5            0          493  "
      ]
     },
     "execution_count": 7,
     "metadata": {},
     "output_type": "execute_result"
    }
   ],
   "source": [
    "df.head()"
   ]
  },
  {
   "cell_type": "code",
   "execution_count": 8,
   "id": "736ba282",
   "metadata": {},
   "outputs": [
    {
     "name": "stdout",
     "output_type": "stream",
     "text": [
      "corr_helpfulness:  -0.016832209821488576\n",
      "corr_category:  -0.14057638180137588\n",
      "corr_gender:  0.018105039011507625\n",
      "corr_review:  -0.062071079458250904\n"
     ]
    }
   ],
   "source": [
    "# get the correlations between helpfulness/category/gender/review and rating\n",
    "corr_helpfulness = df['helpfulness'].corr(df['rating']) \n",
    "corr_category = df['category_code'].corr(df['rating'])\n",
    "corr_gender = df['gender_code'].corr(df['rating'])\n",
    "corr_review = df['review_code'].corr(df['rating'])\n",
    "\n",
    "print('corr_helpfulness: ', corr_helpfulness)\n",
    "print('corr_category: ', corr_category)\n",
    "print('corr_gender: ', corr_gender)\n",
    "print('corr_review: ', corr_review)"
   ]
  },
  {
   "cell_type": "markdown",
   "id": "99549f45",
   "metadata": {},
   "source": [
    "From the results, we may get several observations/conclusions:\n",
    "* rating is relatively more correlated with the item category and item review.\n",
    "* raing is relatively less corrlelated with the rating helpfulness and user gender. \n",
    "* overall, rating is not highly correlated with the four features, as the correlation values are quite small. Therefore, using these features as input for rating prediction may not be quite accurate."
   ]
  },
  {
   "cell_type": "markdown",
   "id": "4760575c",
   "metadata": {},
   "source": [
    "### Remark\n",
    "- By assuming a dummy order of the categorical values, we calculate the correlation of different columns with corr()\n",
    "- You may also use other possible solutions, e.g., RFE, to find out the most and least important features.\n",
    "- Below shows another way to convert the categorical values into numerical values for correlation calculation. ___Although different encoding methods are used, the correlation trends are quite similar.___"
   ]
  },
  {
   "cell_type": "code",
   "execution_count": 9,
   "id": "ba7f6ab9",
   "metadata": {},
   "outputs": [
    {
     "name": "stdout",
     "output_type": "stream",
     "text": [
      "2899\n"
     ]
    }
   ],
   "source": [
    "df_another = pd.read_csv('Epinions_cleaned_data_portfolio_2.csv')\n",
    "print(len(df_another))"
   ]
  },
  {
   "cell_type": "code",
   "execution_count": 10,
   "id": "618ea9b2",
   "metadata": {},
   "outputs": [
    {
     "data": {
      "text/html": [
       "<div>\n",
       "<style scoped>\n",
       "    .dataframe tbody tr th:only-of-type {\n",
       "        vertical-align: middle;\n",
       "    }\n",
       "\n",
       "    .dataframe tbody tr th {\n",
       "        vertical-align: top;\n",
       "    }\n",
       "\n",
       "    .dataframe thead th {\n",
       "        text-align: right;\n",
       "    }\n",
       "</style>\n",
       "<table border=\"1\" class=\"dataframe\">\n",
       "  <thead>\n",
       "    <tr style=\"text-align: right;\">\n",
       "      <th></th>\n",
       "      <th>userId</th>\n",
       "      <th>timestamp</th>\n",
       "      <th>review</th>\n",
       "      <th>item</th>\n",
       "      <th>rating</th>\n",
       "      <th>helpfulness</th>\n",
       "      <th>gender</th>\n",
       "      <th>category</th>\n",
       "    </tr>\n",
       "  </thead>\n",
       "  <tbody>\n",
       "    <tr>\n",
       "      <th>0</th>\n",
       "      <td>4259</td>\n",
       "      <td>11900</td>\n",
       "      <td>856</td>\n",
       "      <td>MyPoints.com</td>\n",
       "      <td>4.0</td>\n",
       "      <td>4.0</td>\n",
       "      <td>0</td>\n",
       "      <td>6</td>\n",
       "    </tr>\n",
       "    <tr>\n",
       "      <th>1</th>\n",
       "      <td>4259</td>\n",
       "      <td>12000</td>\n",
       "      <td>1985</td>\n",
       "      <td>Sixth Sense</td>\n",
       "      <td>5.0</td>\n",
       "      <td>4.0</td>\n",
       "      <td>0</td>\n",
       "      <td>5</td>\n",
       "    </tr>\n",
       "    <tr>\n",
       "      <th>2</th>\n",
       "      <td>4259</td>\n",
       "      <td>12000</td>\n",
       "      <td>2006</td>\n",
       "      <td>Austin Powers: The Spy Who Shagged Me</td>\n",
       "      <td>5.0</td>\n",
       "      <td>4.0</td>\n",
       "      <td>0</td>\n",
       "      <td>5</td>\n",
       "    </tr>\n",
       "    <tr>\n",
       "      <th>3</th>\n",
       "      <td>4259</td>\n",
       "      <td>12000</td>\n",
       "      <td>472</td>\n",
       "      <td>Toy Story 2</td>\n",
       "      <td>5.0</td>\n",
       "      <td>3.0</td>\n",
       "      <td>0</td>\n",
       "      <td>5</td>\n",
       "    </tr>\n",
       "    <tr>\n",
       "      <th>4</th>\n",
       "      <td>4259</td>\n",
       "      <td>12000</td>\n",
       "      <td>493</td>\n",
       "      <td>Star Wars Episode I: The Phantom Menace</td>\n",
       "      <td>2.0</td>\n",
       "      <td>4.0</td>\n",
       "      <td>0</td>\n",
       "      <td>5</td>\n",
       "    </tr>\n",
       "  </tbody>\n",
       "</table>\n",
       "</div>"
      ],
      "text/plain": [
       "   userId  timestamp  review                                     item  rating  \\\n",
       "0    4259      11900     856                             MyPoints.com     4.0   \n",
       "1    4259      12000    1985                              Sixth Sense     5.0   \n",
       "2    4259      12000    2006    Austin Powers: The Spy Who Shagged Me     5.0   \n",
       "3    4259      12000     472                              Toy Story 2     5.0   \n",
       "4    4259      12000     493  Star Wars Episode I: The Phantom Menace     2.0   \n",
       "\n",
       "   helpfulness  gender  category  \n",
       "0          4.0       0         6  \n",
       "1          4.0       0         5  \n",
       "2          4.0       0         5  \n",
       "3          3.0       0         5  \n",
       "4          4.0       0         5  "
      ]
     },
     "execution_count": 10,
     "metadata": {},
     "output_type": "execute_result"
    }
   ],
   "source": [
    "#convert gender to numerical values\n",
    "df_another['gender'] = df_another['gender'].astype('category')\n",
    "df_another['gender'] = df_another['gender'].cat.codes\n",
    "\n",
    "#convert review to numerical values\n",
    "df_another['review'] = df_another['review'].astype('category')\n",
    "df_another['review'] = df_another['review'].cat.codes\n",
    "\n",
    "#convert genre to numerical values\n",
    "df_another['category'] = df_another['category'].astype('category')\n",
    "df_another['category'] = df_another['category'].cat.codes\n",
    "\n",
    "df_another.head()"
   ]
  },
  {
   "cell_type": "code",
   "execution_count": 11,
   "id": "b33fffb6",
   "metadata": {},
   "outputs": [
    {
     "data": {
      "text/html": [
       "<div>\n",
       "<style scoped>\n",
       "    .dataframe tbody tr th:only-of-type {\n",
       "        vertical-align: middle;\n",
       "    }\n",
       "\n",
       "    .dataframe tbody tr th {\n",
       "        vertical-align: top;\n",
       "    }\n",
       "\n",
       "    .dataframe thead th {\n",
       "        text-align: right;\n",
       "    }\n",
       "</style>\n",
       "<table border=\"1\" class=\"dataframe\">\n",
       "  <thead>\n",
       "    <tr style=\"text-align: right;\">\n",
       "      <th></th>\n",
       "      <th>helpfulness</th>\n",
       "      <th>gender</th>\n",
       "      <th>review</th>\n",
       "      <th>category</th>\n",
       "      <th>rating</th>\n",
       "    </tr>\n",
       "  </thead>\n",
       "  <tbody>\n",
       "    <tr>\n",
       "      <th>helpfulness</th>\n",
       "      <td>1.000000</td>\n",
       "      <td>-0.046627</td>\n",
       "      <td>0.016170</td>\n",
       "      <td>-0.000189</td>\n",
       "      <td>-0.016832</td>\n",
       "    </tr>\n",
       "    <tr>\n",
       "      <th>gender</th>\n",
       "      <td>-0.046627</td>\n",
       "      <td>1.000000</td>\n",
       "      <td>-0.014422</td>\n",
       "      <td>-0.017644</td>\n",
       "      <td>0.018105</td>\n",
       "    </tr>\n",
       "    <tr>\n",
       "      <th>review</th>\n",
       "      <td>0.016170</td>\n",
       "      <td>-0.014422</td>\n",
       "      <td>1.000000</td>\n",
       "      <td>0.012047</td>\n",
       "      <td>-0.062071</td>\n",
       "    </tr>\n",
       "    <tr>\n",
       "      <th>category</th>\n",
       "      <td>-0.000189</td>\n",
       "      <td>-0.017644</td>\n",
       "      <td>0.012047</td>\n",
       "      <td>1.000000</td>\n",
       "      <td>-0.140576</td>\n",
       "    </tr>\n",
       "    <tr>\n",
       "      <th>rating</th>\n",
       "      <td>-0.016832</td>\n",
       "      <td>0.018105</td>\n",
       "      <td>-0.062071</td>\n",
       "      <td>-0.140576</td>\n",
       "      <td>1.000000</td>\n",
       "    </tr>\n",
       "  </tbody>\n",
       "</table>\n",
       "</div>"
      ],
      "text/plain": [
       "             helpfulness    gender    review  category    rating\n",
       "helpfulness     1.000000 -0.046627  0.016170 -0.000189 -0.016832\n",
       "gender         -0.046627  1.000000 -0.014422 -0.017644  0.018105\n",
       "review          0.016170 -0.014422  1.000000  0.012047 -0.062071\n",
       "category       -0.000189 -0.017644  0.012047  1.000000 -0.140576\n",
       "rating         -0.016832  0.018105 -0.062071 -0.140576  1.000000"
      ]
     },
     "execution_count": 11,
     "metadata": {},
     "output_type": "execute_result"
    }
   ],
   "source": [
    "#calculate the correlation between features\n",
    "df_another[['helpfulness', 'gender', 'review', 'category', 'rating']].corr()"
   ]
  },
  {
   "cell_type": "markdown",
   "id": "c0e448ff",
   "metadata": {},
   "source": [
    "### Split Training and Testing Data\n",
    "* Machine learning models are trained to help make predictions for the future. Normally, we need to randomly split the dataset into training and testing sets, where we use the training set to train the model, and then leverage the well-trained model to make predictions on the testing set. \n",
    "* To further investigate whether the size of the training/testing data affects the model performance, please random split the data into training and testing sets with different sizes:\n",
    "    * Case 1: training data containing 10% of the entire data;\n",
    "    * Case 2: training data containing 90% of the entire data. \n",
    "* Print the shape of training and testing sets in the two cases. "
   ]
  },
  {
   "cell_type": "code",
   "execution_count": 12,
   "id": "4b639062",
   "metadata": {},
   "outputs": [
    {
     "name": "stdout",
     "output_type": "stream",
     "text": [
      "Case 1 train shape:  (289, 11)\n",
      "Case 1 test shape:  (2610, 11)\n",
      "Case 2 train shape:  (2609, 11)\n",
      "Case 2 test shape:  (290, 11)\n"
     ]
    }
   ],
   "source": [
    "# Case 1 - split train and test sets\n",
    "train_case1, test_case1 = train_test_split(df, test_size=0.9, random_state=142)\n",
    "print('Case 1 train shape: ', train_case1.shape)\n",
    "print('Case 1 test shape: ', test_case1.shape)\n",
    "\n",
    "# Case 2 - split train and test sets\n",
    "train_case2, test_case2 = train_test_split(df, test_size=0.1, random_state=142)\n",
    "print('Case 2 train shape: ', train_case2.shape)\n",
    "print('Case 2 test shape: ', test_case2.shape)"
   ]
  },
  {
   "cell_type": "markdown",
   "id": "3fd2862d",
   "metadata": {},
   "source": [
    "### Train Linear Regression Models with Feature Selection under Cases 1 & 2\n",
    "* When training a machine learning model for prediction, we may need to select the most important/correlated input features for more accurate results. \n",
    "* To investigate whether feature selection affects the model performance, please select two most correlated features and two least correlated features regarding rating, respectively. \n",
    "* Train four linear regression models by following the conditions:\n",
    "    - (model-a) using the training/testing data in case 1 with two most correlated input features\n",
    "    - (model-b) using the training/testing data in case 1 with two least correlated input features\n",
    "    - (model-c) using the training/testing data in case 2 with two most correlated input features\n",
    "    - (model-d) using the training/testing data in case 2 with two least correlated input features\n",
    "* By doing this, we can verify the impacts of the size of traing/testing data on the model performance via comparing model-a and model-c (or model-b and model-d); meanwhile the impacts of feature selection can be validated via comparing model-a and model-b (or model-c and model-d).    "
   ]
  },
  {
   "cell_type": "code",
   "execution_count": 13,
   "id": "81cfa4b0",
   "metadata": {},
   "outputs": [
    {
     "data": {
      "text/plain": [
       "LinearRegression()"
      ]
     },
     "execution_count": 13,
     "metadata": {},
     "output_type": "execute_result"
    }
   ],
   "source": [
    "# Case 1 - train the model with the most correlated features\n",
    "reg_M1 = linear_model.LinearRegression()\n",
    "X_train_M1 = train_case1[['review_code', 'category_code']]\n",
    "y_train_M1 = train_case1['rating']\n",
    "\n",
    "X_test_M1 = test_case1[['review_code', 'category_code']]\n",
    "y_test_M1 = test_case1['rating']\n",
    "\n",
    "reg_M1.fit(X_train_M1, y_train_M1)\n",
    "\n",
    "# Case 1 - train the model with the least correlated features\n",
    "reg_L1 = linear_model.LinearRegression()\n",
    "X_train_L1 = train_case1[['gender_code', 'helpfulness']]\n",
    "y_train_L1 = train_case1['rating']\n",
    "\n",
    "X_test_L1 = test_case1[['gender_code', 'helpfulness']]\n",
    "y_test_L1 = test_case1['rating']\n",
    "\n",
    "reg_L1.fit(X_train_L1, y_train_L1)\n",
    "\n",
    "# Case 2 - train the model with the most correlated features\n",
    "reg_M2 = linear_model.LinearRegression()\n",
    "X_train_M2 = train_case2[['review_code', 'category_code']]\n",
    "y_train_M2 = train_case2['rating']\n",
    "\n",
    "X_test_M2 = test_case2[['review_code', 'category_code']]\n",
    "y_test_M2 = test_case2['rating']\n",
    "\n",
    "reg_M2.fit(X_train_M2, y_train_M2)\n",
    "\n",
    "# Case 2 - train the model with the least correlated features\n",
    "reg_L2 = linear_model.LinearRegression()\n",
    "X_train_L2 = train_case2[['gender_code', 'helpfulness']]\n",
    "y_train_L2 = train_case2['rating']\n",
    "\n",
    "X_test_L2 = test_case2[['gender_code', 'helpfulness']]\n",
    "y_test_L2 = test_case2['rating']\n",
    "\n",
    "reg_L2.fit(X_train_L2, y_train_L2)"
   ]
  },
  {
   "cell_type": "markdown",
   "id": "325eac84",
   "metadata": {},
   "source": [
    "### Evaluate Models\n",
    "* Evaluate the performance of the four models with two metrics, including MSE and Root MSE\n",
    "* Print the results of the four models regarding the two metrics"
   ]
  },
  {
   "cell_type": "code",
   "execution_count": 14,
   "id": "5bb6b766",
   "metadata": {},
   "outputs": [
    {
     "name": "stdout",
     "output_type": "stream",
     "text": [
      "==== Case 1 - the results for the model with most correlated features\n",
      "reg_M1 MSE: 1.7661060021271924\n",
      "reg_M1 Root MSE: 1.3289492097620557\n",
      "==== Case 1 - the results for the model with least correlated features\n",
      "reg_L1 MSE: 1.8142164061736321\n",
      "reg_L1 Root MSE: 1.3469285081895148\n",
      "==== Case 2 - the results for the model with most correlated features\n",
      "reg_M2 MSE: 1.6761619414799571\n",
      "reg_M2 Root MSE: 1.2946667298884131\n",
      "==== Case 2 - the results for the model with least correlated features\n",
      "reg_L2 MSE: 1.7684952380582883\n",
      "reg_L2 Root MSE: 1.3298478251507908\n"
     ]
    }
   ],
   "source": [
    "# Evaluate reg_M1\n",
    "predicted_M1 = reg_M1.predict(X_test_M1)\n",
    "mse_M1 = ((np.array(y_test_M1)-predicted_M1)**2).sum()/len(y_test_M1)\n",
    "rmse_M1 = np.sqrt(mse_M1)\n",
    "print(\"==== Case 1 - the results for the model with most correlated features\")\n",
    "print(\"reg_M1 MSE:\", mse_M1)\n",
    "print(\"reg_M1 Root MSE:\", rmse_M1)\n",
    "\n",
    "# Evaluate reg_L1\n",
    "predicted_L1 = reg_L1.predict(X_test_L1)\n",
    "mse_L1 = ((np.array(y_test_L1)-predicted_L1)**2).sum()/len(y_test_L1)\n",
    "rmse_L1 = np.sqrt(mse_L1)\n",
    "print(\"==== Case 1 - the results for the model with least correlated features\")\n",
    "print(\"reg_L1 MSE:\", mse_L1)\n",
    "print(\"reg_L1 Root MSE:\", rmse_L1)\n",
    "\n",
    "# Evaluate reg_M2\n",
    "predicted_M2 = reg_M2.predict(X_test_M2)\n",
    "mse_M2 = ((np.array(y_test_M2)-predicted_M2)**2).sum()/len(y_test_M2)\n",
    "rmse_M2 = np.sqrt(mse_M2)\n",
    "print(\"==== Case 2 - the results for the model with most correlated features\")\n",
    "print(\"reg_M2 MSE:\", mse_M2)\n",
    "print(\"reg_M2 Root MSE:\", rmse_M2)\n",
    "\n",
    "# Evaluate reg_L2\n",
    "predicted_L2 = reg_L2.predict(X_test_L2)\n",
    "mse_L2 = ((np.array(y_test_L2)-predicted_L2)**2).sum()/len(y_test_L2)\n",
    "rmse_L2 = np.sqrt(mse_L2)\n",
    "print(\"==== Case 2 - the results for the model with least correlated features\")\n",
    "print(\"reg_L2 MSE:\", mse_L2)\n",
    "print(\"reg_L2 Root MSE:\", rmse_L2)"
   ]
  },
  {
   "cell_type": "markdown",
   "id": "2f2a9152",
   "metadata": {},
   "source": [
    "### Visualize, Compare and Analyze the Results\n",
    "* Visulize the results, and perform ___insightful analysis___ on the obtained results. For better visualization, you may need to carefully set the scale for the y-axis.\n",
    "* Normally, the model trained with most correlated features and more training data will get better results. Do you obtain the similar observations? If not, please ___explain the possible reasons___."
   ]
  },
  {
   "cell_type": "code",
   "execution_count": 15,
   "id": "c082a009",
   "metadata": {},
   "outputs": [
    {
     "data": {
      "text/plain": [
       "<BarContainer object of 4 artists>"
      ]
     },
     "execution_count": 15,
     "metadata": {},
     "output_type": "execute_result"
    },
    {
     "data": {
      "image/png": "[encoded data removed]",
      "text/plain": [
       "<Figure size 1152x288 with 2 Axes>"
      ]
     },
     "metadata": {},
     "output_type": "display_data"
    }
   ],
   "source": [
    "# create dataframe for the mse values and rmse values\n",
    "mse_df = pd.DataFrame({'mse': [mse_M1, mse_L1, mse_M2, mse_L2]}, index=['reg_M1', 'reg_L1', 'reg_M2','reg_L2'])\n",
    "rmse_df = pd.DataFrame({'rmse': [rmse_M1, rmse_L1, rmse_M2, rmse_L2]}, index=['reg_M1', 'reg_L1', 'reg_M2','reg_L2'])\n",
    "\n",
    "# plot figures to show the mse and rmse results of different cases\n",
    "sns.set(style=\"whitegrid\")\n",
    "plt.figure(figsize=(16,4))\n",
    "plt.subplot(1, 2, 1)\n",
    "plt.ylim(1.6,1.9)\n",
    "plt.xlabel('Different models', size=15)\n",
    "plt.ylabel('MSE', size=15)\n",
    "plt.title(\"Comparison on MSE\", size=15)\n",
    "plt.bar(data=mse_df, height='mse', x=['reg_M1', 'reg_L1', 'reg_M2','reg_L2'], color='c')\n",
    "plt.subplot(1, 2, 2)\n",
    "plt.ylim(1.1,1.5)\n",
    "plt.xlabel('Different models', size=15)\n",
    "plt.ylabel('RMSE', size=15)\n",
    "plt.title(\"Comparison on RMSE\", size=15)\n",
    "plt.bar(data=rmse_df, height='rmse', x=['reg_M1', 'reg_L1', 'reg_M2','reg_L2'], color='m')"
   ]
  },
  {
   "cell_type": "markdown",
   "id": "61491e31",
   "metadata": {},
   "source": [
    "The following observations and conclusions can be made:\n",
    "* reg_M1 > reg_M2 and reg_L1 > reg_L2 indicates that more training data leads to better prediction\n",
    "* reg_M1 < reg_L1 and reg_M2 < reg_L2 indicates that more correlated input features help generate better results\n",
    "* The minor variation on the performance with different settings indicates that the models are not well trained with these input features. In other words, these input features cannot well help predict ratings.    "
   ]
  },
  {
   "cell_type": "markdown",
   "id": "7e3b9985",
   "metadata": {},
   "source": [
    "### Remark\n",
    "- The solution just provides rough directions for the problem solving. \n",
    "- Especially for the visualization part, ___it is just the basic and plain visualization. This cannot guarantee a full mark.___\n",
    "- Since the correlation between the features (e.g., helpfulness, gender, category, review) and rating is generally quite small, the results may not be consistent with the solution, e.g., reg_M1 > reg_M2 and reg_L1 > reg_L2. This would be fine and you will not get any penalty, as long as you can provide reasonable explanations."
   ]
  }
 ],
 "metadata": {
  "kernelspec": {
   "display_name": "Python 3.10.6 64-bit",
   "language": "python",
   "name": "python3"
  },
  "language_info": {
   "codemirror_mode": {
    "name": "ipython",
    "version": 3
   },
   "file_extension": ".py",
   "mimetype": "text/x-python",
   "name": "python",
   "nbconvert_exporter": "python",
   "pygments_lexer": "ipython3",
   "version": "3.10.6"
  },
  "vscode": {
   "interpreter": {
    "hash": "a5de64471995492ddc618a58ecdfb7a4b97e4a4f9afd41641e70cf3b1dd10a09"
   }
  }
 },
 "nbformat": 4,
 "nbformat_minor": 5
}
